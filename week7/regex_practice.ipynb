{
  "nbformat": 4,
  "nbformat_minor": 0,
  "metadata": {
    "colab": {
      "provenance": [],
      "authorship_tag": "ABX9TyNry2k2bL79D9X4kMIq9djr",
      "include_colab_link": true
    },
    "kernelspec": {
      "name": "python3",
      "display_name": "Python 3"
    },
    "language_info": {
      "name": "python"
    }
  },
  "cells": [
    {
      "cell_type": "markdown",
      "metadata": {
        "id": "view-in-github",
        "colab_type": "text"
      },
      "source": [
        "<a href=\"https://colab.research.google.com/github/Blackchurros/ai_for_ML/blob/main/week7/regex_practice.ipynb\" target=\"_parent\"><img src=\"https://colab.research.google.com/assets/colab-badge.svg\" alt=\"Open In Colab\"/></a>"
      ]
    },
    {
      "cell_type": "code",
      "execution_count": null,
      "metadata": {
        "colab": {
          "base_uri": "https://localhost:8080/"
        },
        "id": "a2LQ4FAaeAUQ",
        "outputId": "344951a0-4b87-4d8f-ffcf-05703d36cf7c"
      },
      "outputs": [
        {
          "output_type": "stream",
          "name": "stdout",
          "text": [
            "Match 1 was found at 71-82: 02-111-1234\n",
            "Group 1 found at 71-73: 02\n",
            "Group 2 found at 74-77: 111\n",
            "Group 3 found at 78-82: 1234\n",
            "Match 2 was found at 83-96: 010-3234-5555\n",
            "Group 1 found at 83-86: 010\n",
            "Group 2 found at 87-91: 3234\n",
            "Group 3 found at 92-96: 5555\n",
            "Match 3 was found at 97-108: 01032321111\n",
            "Group 1 found at 97-100: 010\n",
            "Group 2 found at 100-104: 3232\n",
            "Group 3 found at 104-108: 1111\n",
            "Match 4 was found at 163-175: 032 111 1424\n",
            "Group 1 found at 163-166: 032\n",
            "Group 2 found at 167-170: 111\n",
            "Group 3 found at 171-175: 1424\n"
          ]
        }
      ],
      "source": [
        "# coding=utf8\n",
        "# the above tag defines encoding for this document and is for Python 2.x compatibility\n",
        "\n",
        "import re\n",
        "\n",
        "regex = r\"\\b(\\d{2,3})(?:[- ]?)(\\d{3,4})(?:[- ]?)(\\d{4})\\b\"\n",
        "\n",
        "test_str = (\"4aa 13\\n\"\n",
        "\t\"aba b44\\n\"\n",
        "\t\"ababaa5\\n\"\n",
        "\t\"yaya---\\n\"\n",
        "\t\"ikwak2@cau.ac.kr\\n\"\n",
        "\t\"il.youp.kwak@gmail.com\\n\"\n",
        "\t\"02-111-1234\\n\"\n",
        "\t\"010-3234-5555\\n\"\n",
        "\t\"01032321111\\n\"\n",
        "\t\"hello send me a message(name.kwak@cau.ac.kr)\\n\"\n",
        "\t\"call me (032 111 1424)\\n\")\n",
        "\n",
        "matches = re.finditer(regex, test_str, re.MULTILINE)\n",
        "\n",
        "for matchNum, match in enumerate(matches, start=1):\n",
        "\n",
        "    print (\"Match {matchNum} was found at {start}-{end}: {match}\".format(matchNum = matchNum, start = match.start(), end = match.end(), match = match.group()))\n",
        "\n",
        "    for groupNum in range(0, len(match.groups())):\n",
        "        groupNum = groupNum + 1\n",
        "\n",
        "        print (\"Group {groupNum} found at {start}-{end}: {group}\".format(groupNum = groupNum, start = match.start(groupNum), end = match.end(groupNum), group = match.group(groupNum)))\n",
        "\n",
        "# Note: for Python 2.7 compatibility, use ur\"\" to prefix the regex and u\"\" to prefix the test string and substitution.\n"
      ]
    }
  ]
}